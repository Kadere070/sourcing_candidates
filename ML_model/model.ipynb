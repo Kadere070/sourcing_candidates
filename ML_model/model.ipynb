{
 "cells": [
  {
   "cell_type": "code",
   "execution_count": null,
   "metadata": {},
   "outputs": [],
   "source": [
    "from sklearn.neighbors import NearestNeighbors\n",
    "\n",
    "def train_model(features):\n",
    "    model = NearestNeighbors(n_neighbors=5)\n",
    "    model.fit(features)\n",
    "    return model\n",
    "\n",
    "# Example usage\n",
    "model = train_model(experience_features)\n"
   ]
  }
 ],
 "metadata": {
  "language_info": {
   "name": "python"
  }
 },
 "nbformat": 4,
 "nbformat_minor": 2
}
