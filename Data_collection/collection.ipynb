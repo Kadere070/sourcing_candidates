{
 "cells": [
  {
   "cell_type": "code",
   "execution_count": 2,
   "metadata": {},
   "outputs": [
    {
     "name": "stdout",
     "output_type": "stream",
     "text": [
      "Jobs from LinkedIn:\n",
      "Jobs from Indeed:\n",
      "Jobs from Glassdoor:\n"
     ]
    }
   ],
   "source": [
    "import requests\n",
    "from bs4 import BeautifulSoup\n",
    "\n",
    "def collect_job_data(job_title, location, platform):\n",
    "    if platform.lower() == \"linkedin\":\n",
    "        search_url = f\"https://www.linkedin.com/jobs/search/?keywords={job_title}&location={location}\"\n",
    "    elif platform.lower() == \"indeed\":\n",
    "        search_url = f\"https://www.indeed.com/jobs?q={job_title}&l={location}\"\n",
    "    elif platform.lower() == \"glassdoor\":\n",
    "        search_url = f\"https://www.glassdoor.com/Job/jobs.htm?sc.keyword={job_title}&locT=C&locId={location}\"\n",
    "    else:\n",
    "        return []\n",
    "\n",
    "    response = requests.get(search_url)\n",
    "    soup = BeautifulSoup(response.text, 'html.parser')\n",
    "\n",
    "    if platform.lower() == \"linkedin\":\n",
    "        job_posts = soup.find_all('a', {'class': 'result-card__full-card-link'})\n",
    "    elif platform.lower() == \"indeed\":\n",
    "        job_posts = soup.find_all('a', {'class': 'tapItem'})\n",
    "    elif platform.lower() == \"glassdoor\":\n",
    "        job_posts = soup.find_all('a', {'class': 'jobTitle'})\n",
    "\n",
    "    job_links = [post['href'] for post in job_posts]\n",
    "    return job_links\n",
    "\n",
    "# Example \n",
    "job_title = \"Software Engineer\"\n",
    "location = \"San Francisco, CA\"\n",
    "platforms = [\"LinkedIn\", \"Indeed\", \"Glassdoor\"]\n",
    "\n",
    "all_job_links = {}\n",
    "for platform in platforms:\n",
    "    job_links = collect_job_data(job_title, location, platform)\n",
    "    all_job_links[platform] = job_links\n",
    "\n",
    "for platform, links in all_job_links.items():\n",
    "    print(f\"Jobs from {platform}:\")\n",
    "    for link in links:\n",
    "        print(link)\n",
    "\n"
   ]
  }
 ],
 "metadata": {
  "kernelspec": {
   "display_name": "Python 3",
   "language": "python",
   "name": "python3"
  },
  "language_info": {
   "codemirror_mode": {
    "name": "ipython",
    "version": 3
   },
   "file_extension": ".py",
   "mimetype": "text/x-python",
   "name": "python",
   "nbconvert_exporter": "python",
   "pygments_lexer": "ipython3",
   "version": "3.12.2"
  }
 },
 "nbformat": 4,
 "nbformat_minor": 2
}
