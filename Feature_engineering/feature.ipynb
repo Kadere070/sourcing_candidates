{
 "cells": [
  {
   "cell_type": "code",
   "execution_count": null,
   "metadata": {},
   "outputs": [],
   "source": [
    "from sklearn.feature_extraction.text import TfidfVectorizer\n",
    "\n",
    "def convert_to_features(candidate_infos):\n",
    "    experiences = [\" \".join(info['experiences']) for info in candidate_infos]\n",
    "    skills = [\" \".join(info['skills']) for info in candidate_infos]\n",
    "    \n",
    "    vectorizer = TfidfVectorizer()\n",
    "    experience_features = vectorizer.fit_transform(experiences)\n",
    "    skill_features = vectorizer.fit_transform(skills)\n",
    "    return experience_features, skill_features\n",
    "\n",
    "# Example usage\n",
    "candidate_infos = [candidate_info]\n",
    "experience_features, skill_features = convert_to_features(candidate_infos)\n"
   ]
  }
 ],
 "metadata": {
  "language_info": {
   "name": "python"
  }
 },
 "nbformat": 4,
 "nbformat_minor": 2
}
