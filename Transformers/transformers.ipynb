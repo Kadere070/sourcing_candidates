{
 "cells": [
  {
   "cell_type": "markdown",
   "metadata": {},
   "source": [
    "Required Libraries:"
   ]
  },
  {
   "cell_type": "code",
   "execution_count": null,
   "metadata": {},
   "outputs": [],
   "source": [
    "pip install transformers torch\n"
   ]
  },
  {
   "cell_type": "markdown",
   "metadata": {},
   "source": [
    "Load Pre-trained BERT Model and Tokenizer:"
   ]
  },
  {
   "cell_type": "code",
   "execution_count": null,
   "metadata": {},
   "outputs": [],
   "source": [
    "from transformers import BertTokenizer, BertModel\n",
    "import torch\n",
    "\n",
    "tokenizer = BertTokenizer.from_pretrained('bert-base-uncased')\n",
    "model = BertModel.from_pretrained('bert-base-uncased')\n"
   ]
  },
  {
   "cell_type": "markdown",
   "metadata": {},
   "source": [
    "Preprocess Text Data:"
   ]
  },
  {
   "cell_type": "code",
   "execution_count": null,
   "metadata": {},
   "outputs": [],
   "source": [
    "def preprocess_text(text):\n",
    "    inputs = tokenizer(text, return_tensors='pt', max_length=512, truncation=True, padding='max_length')\n",
    "    return inputs\n",
    "\n",
    "# Example usage\n",
    "text = \"Software engineer with 5 years of experience in Python and machine learning.\"\n",
    "inputs = preprocess_text(text)\n"
   ]
  },
  {
   "cell_type": "markdown",
   "metadata": {},
   "source": [
    "Extract Features Using BERT:"
   ]
  },
  {
   "cell_type": "code",
   "execution_count": null,
   "metadata": {},
   "outputs": [],
   "source": [
    "def get_embeddings(inputs):\n",
    "    with torch.no_grad():\n",
    "        outputs = model(**inputs)\n",
    "    embeddings = outputs.last_hidden_state.mean(dim=1)  # Taking mean of all token embeddings\n",
    "    return embeddings\n",
    "\n",
    "# Example usage\n",
    "embeddings = get_embeddings(inputs)\n",
    "print(embeddings)\n"
   ]
  },
  {
   "cell_type": "markdown",
   "metadata": {},
   "source": [
    "Build a Classifier:"
   ]
  },
  {
   "cell_type": "code",
   "execution_count": null,
   "metadata": {},
   "outputs": [],
   "source": [
    "from torch import nn, optim\n",
    "\n",
    "class CandidateClassifier(nn.Module):\n",
    "    def __init__(self):\n",
    "        super(CandidateClassifier, self).__init__()\n",
    "        self.fc = nn.Linear(768, 1)  # BERT base model outputs 768-dimensional embeddings\n",
    "        self.sigmoid = nn.Sigmoid()\n",
    "\n",
    "    def forward(self, x):\n",
    "        x = self.fc(x)\n",
    "        x = self.sigmoid(x)\n",
    "        return x\n",
    "\n",
    "# Initialize the model, loss function, and optimizer\n",
    "classifier = CandidateClassifier()\n",
    "criterion = nn.BCELoss()\n",
    "optimizer = optim.Adam(classifier.parameters(), lr=1e-3)\n",
    "\n",
    "# Example training step\n",
    "def train_step(embeddings, labels):\n",
    "    classifier.train()\n",
    "    optimizer.zero_grad()\n",
    "    outputs = classifier(embeddings)\n",
    "    loss = criterion(outputs, labels)\n",
    "    loss.backward()\n",
    "    optimizer.step()\n",
    "    return loss.item()\n",
    "\n",
    "# Example usage\n",
    "labels = torch.tensor([1])  # Example label for the training example (1: suitable, 0: not suitable)\n",
    "loss = train_step(embeddings, labels)\n",
    "print(f\"Training loss: {loss}\")\n"
   ]
  },
  {
   "cell_type": "markdown",
   "metadata": {},
   "source": [
    "Screen Candidates:"
   ]
  },
  {
   "cell_type": "code",
   "execution_count": null,
   "metadata": {},
   "outputs": [],
   "source": [
    "def screen_candidates(classifier, candidate_texts):\n",
    "    classifier.eval()\n",
    "    candidate_scores = []\n",
    "    for text in candidate_texts:\n",
    "        inputs = preprocess_text(text)\n",
    "        embeddings = get_embeddings(inputs)\n",
    "        with torch.no_grad():\n",
    "            score = classifier(embeddings).item()\n",
    "        candidate_scores.append((text, score))\n",
    "    return sorted(candidate_scores, key=lambda x: x[1], reverse=True)\n",
    "\n",
    "# Example usage\n",
    "candidate_texts = [\"Experienced data scientist with expertise in Python and deep learning.\",\n",
    "                   \"Junior software developer with knowledge of Java and web development.\"]\n",
    "ranked_candidates = screen_candidates(classifier, candidate_texts)\n",
    "print(ranked_candidates)\n"
   ]
  }
 ],
 "metadata": {
  "language_info": {
   "name": "python"
  }
 },
 "nbformat": 4,
 "nbformat_minor": 2
}
