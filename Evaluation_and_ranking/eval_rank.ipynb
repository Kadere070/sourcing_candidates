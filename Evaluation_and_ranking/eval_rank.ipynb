{
 "cells": [
  {
   "cell_type": "code",
   "execution_count": null,
   "metadata": {},
   "outputs": [],
   "source": [
    "def rank_candidates(model, new_candidate_features):\n",
    "    distances, indices = model.kneighbors(new_candidate_features)\n",
    "    return indices\n",
    "\n",
    "# Example usage\n",
    "new_candidate_features = convert_to_features([{\"experiences\": [\"Python, Machine Learning\"], \"skills\": [\"Python, Scikit-learn\"]}])\n",
    "ranked_candidates = rank_candidates(model, new_candidate_features)\n",
    "print(ranked_candidates)\n"
   ]
  }
 ],
 "metadata": {
  "language_info": {
   "name": "python"
  }
 },
 "nbformat": 4,
 "nbformat_minor": 2
}
