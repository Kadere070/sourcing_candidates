{
 "cells": [
  {
   "cell_type": "code",
   "execution_count": 1,
   "metadata": {},
   "outputs": [
    {
     "ename": "ModuleNotFoundError",
     "evalue": "No module named 'collection'",
     "output_type": "error",
     "traceback": [
      "\u001b[1;31m---------------------------------------------------------------------------\u001b[0m",
      "\u001b[1;31mModuleNotFoundError\u001b[0m                       Traceback (most recent call last)",
      "Cell \u001b[1;32mIn[1], line 1\u001b[0m\n\u001b[1;32m----> 1\u001b[0m \u001b[38;5;28;01mimport\u001b[39;00m \u001b[38;5;21;01mcollection\u001b[39;00m\n\u001b[0;32m      2\u001b[0m \u001b[38;5;28;01mimport\u001b[39;00m \u001b[38;5;21;01mre\u001b[39;00m\n\u001b[0;32m      4\u001b[0m \u001b[38;5;28;01mdef\u001b[39;00m \u001b[38;5;21mextract_candidate_info\u001b[39m(profile_html):\n",
      "\u001b[1;31mModuleNotFoundError\u001b[0m: No module named 'collection'"
     ]
    }
   ],
   "source": [
    "import collection\n",
    "import re\n",
    "\n",
    "def extract_candidate_info(profile_html):\n",
    "    soup = BeautifulSoup(profile_html, 'html.parser')\n",
    "    name = soup.find('h1', {'class': 'top-card-layout__title'}).text.strip()\n",
    "    experiences = [exp.text.strip() for exp in soup.find_all('span', {'class': 'mr1'})]\n",
    "    skills = [skill.text.strip() for skill in soup.find_all('span', {'class': 'skill'})]\n",
    "    return {\"name\": name, \"experiences\": experiences, \"skills\": skills}\n",
    "\n",
    "# Example usage\n",
    "profile_html = requests.get(job_links[0]).text\n",
    "candidate_info = extract_candidate_info(profile_html)\n",
    "print(candidate_info)\n"
   ]
  }
 ],
 "metadata": {
  "kernelspec": {
   "display_name": "Python 3",
   "language": "python",
   "name": "python3"
  },
  "language_info": {
   "codemirror_mode": {
    "name": "ipython",
    "version": 3
   },
   "file_extension": ".py",
   "mimetype": "text/x-python",
   "name": "python",
   "nbconvert_exporter": "python",
   "pygments_lexer": "ipython3",
   "version": "3.12.2"
  }
 },
 "nbformat": 4,
 "nbformat_minor": 2
}
